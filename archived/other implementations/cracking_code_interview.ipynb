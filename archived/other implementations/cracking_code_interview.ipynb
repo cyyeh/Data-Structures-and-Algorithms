{
  "cells": [
    {
      "cell_type": "markdown",
      "source": [
        "# Cracking Code Interview Questions"
      ],
      "metadata": {
        "collapsed": false,
        "outputHidden": false,
        "inputHidden": false
      }
    },
    {
      "cell_type": "markdown",
      "source": [
        "## Chapter 1 Arrays and Strings"
      ],
      "metadata": {}
    },
    {
      "cell_type": "markdown",
      "source": [
        "### 1.1 Is Unique\n",
        "\nImplement an algorithm to determine if a string has all unique characters. What if you cannot use additional data structures?"
      ],
      "metadata": {}
    },
    {
      "cell_type": "code",
      "source": [
        "'''\n",
        "algorithm details: sort then compare two neighbors in the string\n",
        "time complexity: O(nlogn)\n",
        "'''\n",
        "def is_unique_characters(chars):\n",
        "    sorted_chars = ''.join(sorted(chars))\n",
        "    is_unique = True\n",
        "    \n",
        "    for index, char in enumerate(sorted_chars):\n",
        "        if index + 1 < len(sorted_chars) and sorted_chars[index] == sorted_chars[index + 1]:\n",
        "            is_unique = False\n",
        "            break\n",
        "            \n",
        "    return is_unique\n",
        "\n",
        "chars = \"afdsg\"\n",
        "print(is_unique_characters(chars))"
      ],
      "outputs": [
        {
          "output_type": "stream",
          "name": "stdout",
          "text": [
            "True\n"
          ]
        }
      ],
      "execution_count": 12,
      "metadata": {}
    },
    {
      "cell_type": "markdown",
      "source": [
        "## 1.2 Check Permutation\n",
        "\nGiven two strings, write a method to decide if one is a permutation of the other. "
      ],
      "metadata": {}
    },
    {
      "cell_type": "code",
      "source": [
        "'''\n",
        "algorithm details: sort then compare two strings\n",
        "time complexity: O(nlogn)\n",
        "'''\n",
        "def is_permutation_between(str_a, str_b):\n",
        "    sorted_str_a = ''.join(sorted(str_a))\n",
        "    sorted_str_b = ''.join(sorted(str_b))\n",
        "    is_permutation = True\n",
        "    \n",
        "    for a, b in zip(sorted_str_a, sorted_str_b):\n",
        "        if a != b:\n",
        "            is_permutation = False\n",
        "            break\n",
        "            \n",
        "    return is_permutation\n",
        "\n",
        "str_a = \"bac\"\n",
        "str_b = \"cba\"\n",
        "print(is_permutation_between(str_a, str_b))"
      ],
      "outputs": [
        {
          "output_type": "stream",
          "name": "stdout",
          "text": [
            "True\n"
          ]
        }
      ],
      "execution_count": 16,
      "metadata": {}
    },
    {
      "cell_type": "code",
      "source": [],
      "outputs": [],
      "execution_count": null,
      "metadata": {
        "collapsed": false,
        "outputHidden": false,
        "inputHidden": false
      }
    }
  ],
  "metadata": {
    "kernel_info": {
      "name": "python3"
    },
    "language_info": {
      "name": "python",
      "version": "3.6.5",
      "mimetype": "text/x-python",
      "codemirror_mode": {
        "name": "ipython",
        "version": 3
      },
      "pygments_lexer": "ipython3",
      "nbconvert_exporter": "python",
      "file_extension": ".py"
    },
    "kernelspec": {
      "name": "python3",
      "language": "python",
      "display_name": "Python 3"
    },
    "nteract": {
      "version": "0.12.3"
    }
  },
  "nbformat": 4,
  "nbformat_minor": 4
}