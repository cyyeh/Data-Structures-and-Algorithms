{
 "cells": [
  {
   "cell_type": "markdown",
   "metadata": {},
   "source": [
    "# Array"
   ]
  },
  {
   "cell_type": "markdown",
   "metadata": {
    "toc-hr-collapsed": true,
    "toc-nb-collapsed": true
   },
   "source": [
    "## Static Array"
   ]
  },
  {
   "cell_type": "markdown",
   "metadata": {},
   "source": [
    "An array organizes items sequentially, one after another in memory.\n",
    "\n",
    "Each position in the array has an index, starting at 0.\n",
    "\n",
    "**Strengths:**\n",
    "\n",
    "- **Fast lookups.** Retrieving the element at a given index takes $O(1)$ time, regardless of the length of the array.\n",
    "- **Fast appends.** Adding a new element at the end of the array takes $O(1)$ time.\n",
    "\n",
    "**Weaknesses:**\n",
    "\n",
    "- **Fixed size.** You need to specify how many elements you're going to store in your array ahead of time. (Unless you're using a fancy dynamic array.)\n",
    "- **Costly inserts and deletes.** You have to \"scoot over\" the other elements to fill in or close gaps, which takes worst-case $O(n)$ time.\n",
    "\n",
    "||Worst Case|\n",
    "|---|---|\n",
    "|space|$O(n)$|\n",
    "|lookup|$O(1)$|\n",
    "|append|$O(1)$|\n",
    "|insert|$O(n)$|\n",
    "|delete|$O(n)$|"
   ]
  },
  {
   "cell_type": "markdown",
   "metadata": {
    "toc-hr-collapsed": true,
    "toc-nb-collapsed": true
   },
   "source": [
    "## Dynamic Array"
   ]
  },
  {
   "cell_type": "markdown",
   "metadata": {},
   "source": [
    "A dynamic array is an array with a big improvement: automatic resizing.\n",
    "\n",
    "One limitation of arrays is that they're fixed size, meaning you need to specify the number of elements your array will hold ahead of time.\n",
    "\n",
    "A dynamic array expands as you add more elements. So you don't need to determine the size ahead of time.\n",
    "\n",
    "**Strengths:**\n",
    "\n",
    "- **Fast lookups.** Just like arrays, retrieving the element at a given index takes $O(1)$ time.\n",
    "- **Variable size.** You can add as many items as you want, and the dynamic array will expand to hold them.\n",
    "- **Cache-friendly.** Just like arrays, dynamic arrays place items right next to each other in memory, making efficient use of caches.\n",
    "\n",
    "**Weaknesses:**\n",
    "\n",
    "- **Slow worst-case appends.** Usually, adding a new element at the end of the dynamic array takes $O(1)$ time. But if the dynamic array doesn't have any room for the new item, it'll need to expand, which takes $O(n)$ time.\n",
    "- **Costly inserts and deletes.** Just like arrays, elements are stored adjacent to each other. So adding or removing an item in the middle of the array requires \"scooting over\" other elements, which takes $O(n)$ time.\n",
    "\n",
    "||Average Case|Worst Case|\n",
    "|---|---|---|\n",
    "|space|$O(n)$|$O(n)$|\n",
    "|lookup|$O(1)$|$O(1)$|\n",
    "|append|$O(1)$|$O(n)$|\n",
    "|insert|$O(n)$|$O(n)$|\n",
    "|delete|$O(n)$|$O(n)$|\n",
    "\n",
    "**Amortized cost of appending**\n",
    "\n",
    "The time cost of each special $O(n)$ \"doubling append\" doubles each time.\n",
    "At the same time, the number of $O(1)$ appends you get until the next doubling append also doubles.\n",
    "These two things sort of \"cancel out,\" and we can say each append has an average cost or amortized cost of $O(1)$.\n",
    "\n",
    "Given this, in industry we usually wave our hands and say dynamic arrays have a time cost of $O(1)$ for appends, even though strictly speaking that's only true for the average case or the amortized cost."
   ]
  },
  {
   "cell_type": "markdown",
   "metadata": {},
   "source": [
    "# Practices"
   ]
  },
  {
   "cell_type": "code",
   "execution_count": 1,
   "metadata": {},
   "outputs": [],
   "source": [
    "import unittest"
   ]
  },
  {
   "cell_type": "markdown",
   "metadata": {},
   "source": [
    "## Merging Meeting Times"
   ]
  },
  {
   "cell_type": "markdown",
   "metadata": {},
   "source": [
    "Your company built an in-house calendar tool called HiCal. You want to add a feature to see the times in a day when everyone is available.\n",
    "\n",
    "To do this, you’ll need to know when any team is having a meeting. In HiCal, a meeting is stored as a tuple ↴ of integers (start_time, end_time). These integers represent the number of 30-minute blocks past 9:00am.\n",
    "\n",
    "For example:\n",
    "\n",
    "```\n",
    "(2, 3)  # Meeting from 10:00 – 10:30 am\n",
    "(6, 9)  # Meeting from 12:00 – 1:30 pm\n",
    "```\n",
    "\n",
    "Write a function merge_ranges() that takes a list of multiple meeting time ranges and returns a list of condensed ranges.\n",
    "\n",
    "For example, given:\n",
    "\n",
    "```\n",
    "  [(0, 1), (3, 5), (4, 8), (10, 12), (9, 10)]\n",
    "```\n",
    "\n",
    "your function would return:\n",
    "\n",
    "```\n",
    "  [(0, 1), (3, 8), (9, 12)]\n",
    "```\n",
    "\n",
    "Do not assume the meetings are in order. The meeting times are coming from multiple teams.\n",
    "\n",
    "Write a solution that's efficient even when we can't put a nice upper bound on the numbers representing our time ranges. Here we've simplified our times down to the number of 30-minute slots past 9:00 am. But we want the function to work even for very large numbers, like Unix timestamps. In any case, the spirit of the challenge is to merge meetings where start_time and end_time don't have an upper bound."
   ]
  },
  {
   "cell_type": "code",
   "execution_count": 18,
   "metadata": {},
   "outputs": [],
   "source": [
    "def merge_ranges(meetings):\n",
    "    results = []\n",
    "    if not meetings:\n",
    "        return results\n",
    "\n",
    "    meetings_sorted = sorted(meetings)\n",
    "    condensed = None\n",
    "\n",
    "    for meeting in meetings_sorted:\n",
    "        # first meeting\n",
    "        if not condensed:\n",
    "            condensed = meeting\n",
    "        # make condensed bigger\n",
    "        elif meeting[0] >= condensed[0] and meeting[0] <= condensed[1] and meeting[1] > condensed[1]:\n",
    "            condensed = (condensed[0], meeting[1])\n",
    "        # add new meeting range\n",
    "        elif meeting[0] > condensed[1]:\n",
    "            results.append(condensed)\n",
    "            condensed = meeting\n",
    "            \n",
    "    if condensed:\n",
    "        results.append(condensed)\n",
    "\n",
    "    return results"
   ]
  },
  {
   "cell_type": "code",
   "execution_count": 19,
   "metadata": {},
   "outputs": [
    {
     "name": "stderr",
     "output_type": "stream",
     "text": [
      "test_meeting_contains_other_meeting (__main__.Test) ... ok\n",
      "test_meetings_not_sorted (__main__.Test) ... ok\n",
      "test_meetings_overlap (__main__.Test) ... ok\n",
      "test_meetings_stay_separate (__main__.Test) ... ok\n",
      "test_meetings_touch (__main__.Test) ... ok\n",
      "test_multiple_merged_meetings (__main__.Test) ... ok\n",
      "test_one_long_meeting_contains_smaller_meetings (__main__.Test) ... ok\n",
      "test_sample_input (__main__.Test) ... ok\n",
      "\n",
      "----------------------------------------------------------------------\n",
      "Ran 8 tests in 0.005s\n",
      "\n",
      "OK\n"
     ]
    }
   ],
   "source": [
    "class Test(unittest.TestCase):\n",
    "\n",
    "    def test_meetings_overlap(self):\n",
    "        actual = merge_ranges([(1, 3), (2, 4)])\n",
    "        expected = [(1, 4)]\n",
    "        self.assertEqual(actual, expected)\n",
    "\n",
    "    def test_meetings_touch(self):\n",
    "        actual = merge_ranges([(5, 6), (6, 8)])\n",
    "        expected = [(5, 8)]\n",
    "        self.assertEqual(actual, expected)\n",
    "\n",
    "    def test_meeting_contains_other_meeting(self):\n",
    "        actual = merge_ranges([(1, 8), (2, 5)])\n",
    "        expected = [(1, 8)]\n",
    "        self.assertEqual(actual, expected)\n",
    "\n",
    "    def test_meetings_stay_separate(self):\n",
    "        actual = merge_ranges([(1, 3), (4, 8)])\n",
    "        expected = [(1, 3), (4, 8)]\n",
    "        self.assertEqual(actual, expected)\n",
    "\n",
    "    def test_multiple_merged_meetings(self):\n",
    "        actual = merge_ranges([(1, 4), (2, 5), (5, 8)])\n",
    "        expected = [(1, 8)]\n",
    "        self.assertEqual(actual, expected)\n",
    "\n",
    "    def test_meetings_not_sorted(self):\n",
    "        actual = merge_ranges([(5, 8), (1, 4), (6, 8)])\n",
    "        expected = [(1, 4), (5, 8)]\n",
    "        self.assertEqual(actual, expected)\n",
    "\n",
    "    def test_one_long_meeting_contains_smaller_meetings(self):\n",
    "        actual = merge_ranges([(1, 10), (2, 5), (6, 8), (9, 10), (10, 12)])\n",
    "        expected = [(1, 12)]\n",
    "        self.assertEqual(actual, expected)\n",
    "\n",
    "    def test_sample_input(self):\n",
    "        actual = merge_ranges([(0, 1), (3, 5), (4, 8), (10, 12), (9, 10)])\n",
    "        expected = [(0, 1), (3, 8), (9, 12)]\n",
    "        self.assertEqual(actual, expected)\n",
    "        \n",
    "if __name__ == '__main__':\n",
    "    unittest.main(argv=['first-arg-is-ignored'], verbosity=2, exit=False)"
   ]
  },
  {
   "cell_type": "markdown",
   "metadata": {},
   "source": [
    "## Reverse String in Place"
   ]
  },
  {
   "cell_type": "markdown",
   "metadata": {},
   "source": [
    "Write a function that takes a list of characters and reverses the letters in place."
   ]
  },
  {
   "cell_type": "code",
   "execution_count": 25,
   "metadata": {},
   "outputs": [],
   "source": [
    "def reverse(list_of_chars):\n",
    "\n",
    "    left_index  = 0\n",
    "    right_index = len(list_of_chars) - 1\n",
    "\n",
    "    while left_index < right_index:\n",
    "        # Swap characters\n",
    "        list_of_chars[left_index], list_of_chars[right_index] = \\\n",
    "            list_of_chars[right_index], list_of_chars[left_index]\n",
    "        # Move towards middle\n",
    "        left_index  += 1\n",
    "        right_index -= 1"
   ]
  },
  {
   "cell_type": "code",
   "execution_count": 28,
   "metadata": {},
   "outputs": [
    {
     "name": "stderr",
     "output_type": "stream",
     "text": [
      "test_empty_string (__main__.Test) ... ok\n",
      "test_longer_string (__main__.Test) ... ok\n",
      "test_single_character_string (__main__.Test) ... ok\n",
      "\n",
      "----------------------------------------------------------------------\n",
      "Ran 3 tests in 0.002s\n",
      "\n",
      "OK\n"
     ]
    }
   ],
   "source": [
    "class Test(unittest.TestCase):\n",
    "\n",
    "    def test_empty_string(self):\n",
    "        list_of_chars = []\n",
    "        reverse(list_of_chars)\n",
    "        expected = []\n",
    "        self.assertEqual(list_of_chars, expected)\n",
    "\n",
    "    def test_single_character_string(self):\n",
    "        list_of_chars = ['A']\n",
    "        reverse(list_of_chars)\n",
    "        expected = ['A']\n",
    "        self.assertEqual(list_of_chars, expected)\n",
    "\n",
    "    def test_longer_string(self):\n",
    "        list_of_chars = ['A', 'B', 'C', 'D', 'E']\n",
    "        reverse(list_of_chars)\n",
    "        expected = ['E', 'D', 'C', 'B', 'A']\n",
    "        self.assertEqual(list_of_chars, expected)\n",
    "\n",
    "if __name__ == '__main__':\n",
    "    unittest.main(argv=['first-arg-is-ignored'], verbosity=2, exit=False)"
   ]
  },
  {
   "cell_type": "markdown",
   "metadata": {},
   "source": [
    "## Reverse Words"
   ]
  },
  {
   "cell_type": "markdown",
   "metadata": {},
   "source": [
    "You're working on a secret team solving coded transmissions.\n",
    "\n",
    "Your team is scrambling to decipher a recent message, worried it's a plot to break into a major European National Cake Vault. The message has been mostly deciphered, but all the words are backward! Your colleagues have handed off the last step to you.\n",
    "\n",
    "Write a function `reverse_words()` that takes a message as a list of characters and reverses the order of the words in place.\n",
    "\n",
    "```python\n",
    "message = [ 'c', 'a', 'k', 'e', ' ',\n",
    "            'p', 'o', 'u', 'n', 'd', ' ',\n",
    "            's', 't', 'e', 'a', 'l' ]\n",
    "\n",
    "reverse_words(message)\n",
    "\n",
    "# Prints: 'steal pound cake'\n",
    "print(''.join(message))\n",
    "```\n",
    "\n",
    "When writing your function, assume the message contains only letters and spaces, and all words are separated by one space."
   ]
  },
  {
   "cell_type": "code",
   "execution_count": 29,
   "metadata": {},
   "outputs": [],
   "source": [
    "def reverse_words(message):\n",
    "    def reverse(left_index, right_index):\n",
    "        while left_index < right_index:\n",
    "            # Swap characters\n",
    "            message[left_index], message[right_index] = \\\n",
    "                message[right_index], message[left_index]\n",
    "            # Move towards middle\n",
    "            left_index  += 1\n",
    "            right_index -= 1\n",
    "            \n",
    "    # reverse all\n",
    "    reverse(0, len(message) - 1)\n",
    "    \n",
    "    # reverse by parts\n",
    "    left_index = 0\n",
    "    right_index = 0\n",
    "    for char in message:\n",
    "        if char == ' ':\n",
    "            reverse(left_index, right_index - 1)\n",
    "            left_index = right_index + 1\n",
    "            right_index = left_index\n",
    "        else:\n",
    "            right_index += 1\n",
    "        \n",
    "    reverse(left_index, right_index - 1)"
   ]
  },
  {
   "cell_type": "code",
   "execution_count": 31,
   "metadata": {},
   "outputs": [
    {
     "name": "stderr",
     "output_type": "stream",
     "text": [
      "test_empty_string (__main__.Test) ... ok\n",
      "test_multiple_words_different_lengths (__main__.Test) ... ok\n",
      "test_multiple_words_same_length (__main__.Test) ... ok\n",
      "test_one_word (__main__.Test) ... ok\n",
      "test_three_words (__main__.Test) ... ok\n",
      "test_two_words (__main__.Test) ... ok\n",
      "\n",
      "----------------------------------------------------------------------\n",
      "Ran 6 tests in 0.003s\n",
      "\n",
      "OK\n"
     ]
    }
   ],
   "source": [
    "class Test(unittest.TestCase):\n",
    "\n",
    "    def test_one_word(self):\n",
    "        message = list('vault')\n",
    "        reverse_words(message)\n",
    "        expected = list('vault')\n",
    "        self.assertEqual(message, expected)\n",
    "\n",
    "    def test_two_words(self):\n",
    "        message = list('thief cake')\n",
    "        reverse_words(message)\n",
    "        expected = list('cake thief')\n",
    "        self.assertEqual(message, expected)\n",
    "\n",
    "    def test_three_words(self):\n",
    "        message = list('one another get')\n",
    "        reverse_words(message)\n",
    "        expected = list('get another one')\n",
    "        self.assertEqual(message, expected)\n",
    "\n",
    "    def test_multiple_words_same_length(self):\n",
    "        message = list('rat the ate cat the')\n",
    "        reverse_words(message)\n",
    "        expected = list('the cat ate the rat')\n",
    "        self.assertEqual(message, expected)\n",
    "\n",
    "    def test_multiple_words_different_lengths(self):\n",
    "        message = list('yummy is cake bundt chocolate')\n",
    "        reverse_words(message)\n",
    "        expected = list('chocolate bundt cake is yummy')\n",
    "        self.assertEqual(message, expected)\n",
    "\n",
    "    def test_empty_string(self):\n",
    "        message = list('')\n",
    "        reverse_words(message)\n",
    "        expected = list('')\n",
    "        self.assertEqual(message, expected)\n",
    "\n",
    "if __name__ == '__main__':\n",
    "    unittest.main(argv=['first-arg-is-ignored'], verbosity=2, exit=False)"
   ]
  },
  {
   "cell_type": "markdown",
   "metadata": {},
   "source": [
    "## Merge Sorted Arrays"
   ]
  },
  {
   "cell_type": "markdown",
   "metadata": {},
   "source": [
    "In order to win the prize for most cookies sold, my friend Alice and I are going to merge our Girl Scout Cookies orders and enter as one unit.\n",
    "\n",
    "Each order is represented by an \"order id\" (an integer).\n",
    "\n",
    "We have our lists of orders sorted numerically already, in lists. Write a function to merge our lists of orders into one sorted list.\n",
    "\n",
    "For example:\n",
    "\n",
    "```python\n",
    "my_list     = [3, 4, 6, 10, 11, 15]\n",
    "alices_list = [1, 5, 8, 12, 14, 19]\n",
    "\n",
    "# Prints [1, 3, 4, 5, 6, 8, 10, 11, 12, 14, 15, 19]\n",
    "print(merge_lists(my_list, alices_list))\n",
    "```"
   ]
  },
  {
   "cell_type": "code",
   "execution_count": 36,
   "metadata": {},
   "outputs": [],
   "source": [
    "def merge_lists(my_list, alices_list):\n",
    "\n",
    "    # Combine the sorted lists into one large sorted list\n",
    "    merged = []\n",
    "    if not my_list and not alices_list:\n",
    "        return merged\n",
    "    \n",
    "    my_index = 0\n",
    "    alices_index = 0\n",
    "    \n",
    "    while my_index < len(my_list) and alices_index < len(alices_list):\n",
    "        if my_list[my_index] <= alices_list[alices_index]:\n",
    "            merged.append(my_list[my_index])\n",
    "            my_index += 1\n",
    "        else:\n",
    "            merged.append(alices_list[alices_index])\n",
    "            alices_index += 1\n",
    "    \n",
    "    if my_index < len(my_list):\n",
    "        merged += my_list[my_index:]\n",
    "    else:\n",
    "        merged += alices_list[alices_index:]\n",
    "    \n",
    "    return merged"
   ]
  },
  {
   "cell_type": "code",
   "execution_count": 37,
   "metadata": {},
   "outputs": [
    {
     "name": "stderr",
     "output_type": "stream",
     "text": [
      "test_both_lists_are_empty (__main__.Test) ... ok\n",
      "test_both_lists_have_some_numbers (__main__.Test) ... ok\n",
      "test_first_list_is_empty (__main__.Test) ... ok\n",
      "test_lists_are_different_lengths (__main__.Test) ... ok\n",
      "test_second_list_is_empty (__main__.Test) ... ok\n",
      "\n",
      "----------------------------------------------------------------------\n",
      "Ran 5 tests in 0.003s\n",
      "\n",
      "OK\n"
     ]
    }
   ],
   "source": [
    "class Test(unittest.TestCase):\n",
    "\n",
    "    def test_both_lists_are_empty(self):\n",
    "        actual = merge_lists([], [])\n",
    "        expected = []\n",
    "        self.assertEqual(actual, expected)\n",
    "\n",
    "    def test_first_list_is_empty(self):\n",
    "        actual = merge_lists([], [1, 2, 3])\n",
    "        expected = [1, 2, 3]\n",
    "        self.assertEqual(actual, expected)\n",
    "\n",
    "    def test_second_list_is_empty(self):\n",
    "        actual = merge_lists([5, 6, 7], [])\n",
    "        expected = [5, 6, 7]\n",
    "        self.assertEqual(actual, expected)\n",
    "\n",
    "    def test_both_lists_have_some_numbers(self):\n",
    "        actual = merge_lists([2, 4, 6], [1, 3, 7])\n",
    "        expected = [1, 2, 3, 4, 6, 7]\n",
    "        self.assertEqual(actual, expected)\n",
    "\n",
    "    def test_lists_are_different_lengths(self):\n",
    "        actual = merge_lists([2, 4, 6, 8], [1, 7])\n",
    "        expected = [1, 2, 4, 6, 7, 8]\n",
    "        self.assertEqual(actual, expected)\n",
    "\n",
    "if __name__ == '__main__':\n",
    "    unittest.main(argv=['first-arg-is-ignored'], verbosity=2, exit=False)"
   ]
  },
  {
   "cell_type": "markdown",
   "metadata": {},
   "source": [
    "## Cafe Order Checker"
   ]
  },
  {
   "cell_type": "markdown",
   "metadata": {},
   "source": [
    "My cake shop is so popular, I'm adding some tables and hiring wait staff so folks can have a cute sit-down cake-eating experience.\n",
    "\n",
    "I have two registers: one for take-out orders, and the other for the other folks eating inside the cafe. All the customer orders get combined into one list for the kitchen, where they should be handled first-come, first-served.\n",
    "\n",
    "Recently, some customers have been complaining that people who placed orders after them are getting their food first. Yikes—that's not good for business!\n",
    "\n",
    "To investigate their claims, one afternoon I sat behind the registers with my laptop and recorded:\n",
    "\n",
    "- The take-out orders as they were entered into the system and given to the kitchen. (take_out_orders)\n",
    "- The dine-in orders as they were entered into the system and given to the kitchen. (dine_in_orders)\n",
    "- Each customer order (from either register) as it was finished by the kitchen. (served_orders)\n",
    "\n",
    "Given all three lists, write a function to check that my service is first-come, first-served. All food should come out in the same order customers requested it.\n",
    "\n",
    "We'll represent each customer order as a unique integer.\n",
    "\n",
    "As an example,\n",
    "\n",
    "```\n",
    "Take Out Orders: [1, 3, 5]\n",
    "Dine In Orders: [2, 4, 6]\n",
    "Served Orders: [1, 2, 4, 6, 5, 3]\n",
    "```\n",
    "would not be first-come, first-served, since order 3 was requested before order 5 but order 5 was served first.\n",
    "\n",
    "But,\n",
    "\n",
    "```\n",
    "Take Out Orders: [1, 3, 5]\n",
    "Dine In Orders: [2, 4, 6]\n",
    "Served Orders: [1, 2, 3, 5, 4, 6]\n",
    "```\n",
    "\n",
    "would be first-come, first-served."
   ]
  },
  {
   "cell_type": "code",
   "execution_count": 42,
   "metadata": {},
   "outputs": [],
   "source": [
    "def is_first_come_first_served(take_out_orders, dine_in_orders, served_orders):\n",
    "\n",
    "    # Check if we're serving orders first-come, first-served\n",
    "    out_index = 0\n",
    "    in_index = 0\n",
    "    result = True\n",
    "    \n",
    "    for order_id in served_orders:\n",
    "        if out_index < len(take_out_orders) and take_out_orders[out_index] == order_id:\n",
    "            out_index += 1\n",
    "        elif in_index < len(dine_in_orders) and dine_in_orders[in_index] == order_id:\n",
    "            in_index += 1\n",
    "        else:\n",
    "            result = False\n",
    "            break\n",
    "            \n",
    "    # make sure all orders are reserved\n",
    "    if out_index != len(take_out_orders):\n",
    "        result = False\n",
    "    elif in_index != len(dine_in_orders):\n",
    "        result = False\n",
    "    \n",
    "    return result"
   ]
  },
  {
   "cell_type": "code",
   "execution_count": 43,
   "metadata": {},
   "outputs": [
    {
     "name": "stderr",
     "output_type": "stream",
     "text": [
      "test_both_registers_have_same_number_of_orders (__main__.Test) ... ok\n",
      "test_one_register_has_extra_orders (__main__.Test) ... ok\n",
      "test_one_register_has_unserved_orders (__main__.Test) ... ok\n",
      "test_one_register_is_empty (__main__.Test) ... ok\n",
      "test_registers_have_different_lengths (__main__.Test) ... ok\n",
      "test_served_orders_has_extra_orders (__main__.Test) ... ok\n",
      "test_served_orders_is_missing_orders (__main__.Test) ... ok\n",
      "\n",
      "----------------------------------------------------------------------\n",
      "Ran 7 tests in 0.004s\n",
      "\n",
      "OK\n"
     ]
    }
   ],
   "source": [
    "class Test(unittest.TestCase):\n",
    "\n",
    "    def test_both_registers_have_same_number_of_orders(self):\n",
    "        result = is_first_come_first_served([1, 4, 5], [2, 3, 6], [1, 2, 3, 4, 5, 6])\n",
    "        self.assertTrue(result)\n",
    "\n",
    "    def test_registers_have_different_lengths(self):\n",
    "        result = is_first_come_first_served([1, 5], [2, 3, 6], [1, 2, 6, 3, 5])\n",
    "        self.assertFalse(result)\n",
    "\n",
    "    def test_one_register_is_empty(self):\n",
    "        result = is_first_come_first_served([], [2, 3, 6], [2, 3, 6])\n",
    "        self.assertTrue(result)\n",
    "\n",
    "    def test_served_orders_is_missing_orders(self):\n",
    "        result = is_first_come_first_served([1, 5], [2, 3, 6], [1, 6, 3, 5])\n",
    "        self.assertFalse(result)\n",
    "\n",
    "    def test_served_orders_has_extra_orders(self):\n",
    "        result = is_first_come_first_served([1, 5], [2, 3, 6], [1, 2, 3, 5, 6, 8])\n",
    "        self.assertFalse(result)\n",
    "\n",
    "    def test_one_register_has_extra_orders(self):\n",
    "        result = is_first_come_first_served([1, 9], [7, 8], [1, 7, 8])\n",
    "        self.assertFalse(result)\n",
    "\n",
    "    def test_one_register_has_unserved_orders(self):\n",
    "        result = is_first_come_first_served([55, 9], [7, 8], [1, 7, 8, 9])\n",
    "        self.assertFalse(result)\n",
    "\n",
    "if __name__ == '__main__':\n",
    "    unittest.main(argv=['first-arg-is-ignored'], verbosity=2, exit=False)"
   ]
  },
  {
   "cell_type": "code",
   "execution_count": null,
   "metadata": {},
   "outputs": [],
   "source": []
  }
 ],
 "metadata": {
  "kernelspec": {
   "display_name": "Python 3",
   "language": "python",
   "name": "python3"
  },
  "language_info": {
   "codemirror_mode": {
    "name": "ipython",
    "version": 3
   },
   "file_extension": ".py",
   "mimetype": "text/x-python",
   "name": "python",
   "nbconvert_exporter": "python",
   "pygments_lexer": "ipython3",
   "version": "3.6.5"
  }
 },
 "nbformat": 4,
 "nbformat_minor": 4
}
