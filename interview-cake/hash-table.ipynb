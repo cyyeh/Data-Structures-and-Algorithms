{
 "cells": [
  {
   "cell_type": "markdown",
   "metadata": {},
   "source": [
    "# Hash Table"
   ]
  },
  {
   "cell_type": "markdown",
   "metadata": {},
   "source": [
    "A hash table organizes data so you can quickly look up values for a given key.\n",
    "\n",
    "**Strengths**:\n",
    "\n",
    "- Fast lookups. Lookups take $O(1)$ time on average.\n",
    "- Flexible keys. Most data types can be used for keys, as long as they're hashable.\n",
    "\n",
    "**Weaknesses**:\n",
    "\n",
    "- **Slow worst-case lookups**. Lookups take $O(n)$ time in the worst case.\n",
    "- **Unordered**. Keys aren't stored in a special order. If you're looking for the smallest key, the largest key, or all the keys in a range, you'll need to look through every key to find it.\n",
    "- **Single-directional lookups**. While you can look up the value for a given key in $O(1)$ time, looking up the keys for a given value requires looping through the whole dataset—$O(n)$ time.\n",
    "- **Not cache-friendly**. Many hash table implementations use linked lists, which don't put data next to each other in memory.\n",
    "\n",
    "||Average|Worst Case|\n",
    "|---|---|---|\n",
    "|space|$O(n)$|$O(n)$|\n",
    "|insert|$O(1)$|$O(n)$|\n",
    "|lookup|$O(1)$|$O(n)$|\n",
    "|delete|$O(1)$|$O(n)$|"
   ]
  },
  {
   "cell_type": "markdown",
   "metadata": {},
   "source": [
    "# Practices"
   ]
  },
  {
   "cell_type": "code",
   "execution_count": 17,
   "metadata": {},
   "outputs": [],
   "source": [
    "import unittest"
   ]
  },
  {
   "cell_type": "markdown",
   "metadata": {},
   "source": [
    "## Inflight Entertainment"
   ]
  },
  {
   "cell_type": "markdown",
   "metadata": {},
   "source": [
    "Users on longer flights like to start a second movie right when their first one ends, but they complain that the plane usually lands before they can see the ending. So you're building a feature for choosing two movies whose total runtimes will equal the exact flight length.\n",
    "\n",
    "Write a function that takes an integer flight_length (in minutes) and a list of integers movie_lengths (in minutes) and returns a boolean indicating whether there are two numbers in movie_lengths whose sum equals flight_length.\n",
    "\n",
    "When building your function:\n",
    "\n",
    "- Assume your users will watch exactly two movies\n",
    "- Don't make your users watch the same movie twice\n",
    "- Optimize for runtime over memory"
   ]
  },
  {
   "cell_type": "code",
   "execution_count": 9,
   "metadata": {},
   "outputs": [],
   "source": [
    "def can_two_movies_fill_flight(movie_lengths, flight_length):\n",
    "\n",
    "    # Determine if two movie runtimes add up to the flight length\n",
    "    movie_length_dict = {}\n",
    "    result = False\n",
    "    \n",
    "    for movie_length in movie_lengths:\n",
    "        if movie_length > flight_length:\n",
    "            continue\n",
    "        else:\n",
    "            if str(flight_length - movie_length) in movie_length_dict:\n",
    "                result = True\n",
    "                break\n",
    "            elif str(movie_length) in movie_length_dict:\n",
    "                movie_length_dict[str(movie_length)] += 1\n",
    "            elif str(movie_length) not in movie_length_dict:\n",
    "                movie_length_dict[str(movie_length)] = 1\n",
    "        \n",
    "    return result"
   ]
  },
  {
   "cell_type": "code",
   "execution_count": 10,
   "metadata": {},
   "outputs": [
    {
     "name": "stderr",
     "output_type": "stream",
     "text": [
      "test_long_flight (__main__.Test) ... ok\n",
      "test_lots_of_possible_pairs (__main__.Test) ... ok\n",
      "test_no_movies (__main__.Test) ... ok\n",
      "test_not_using_first_movie (__main__.Test) ... ok\n",
      "test_one_movie_half_flight_length (__main__.Test) ... ok\n",
      "test_only_one_movie (__main__.Test) ... ok\n",
      "test_short_flight (__main__.Test) ... ok\n",
      "test_two_movies_half_flight_length (__main__.Test) ... ok\n",
      "\n",
      "----------------------------------------------------------------------\n",
      "Ran 8 tests in 0.005s\n",
      "\n",
      "OK\n"
     ]
    }
   ],
   "source": [
    "class Test(unittest.TestCase):\n",
    "\n",
    "    def test_short_flight(self):\n",
    "        result = can_two_movies_fill_flight([2, 4], 1)\n",
    "        self.assertFalse(result)\n",
    "\n",
    "    def test_long_flight(self):\n",
    "        result = can_two_movies_fill_flight([2, 4], 6)\n",
    "        self.assertTrue(result)\n",
    "\n",
    "    def test_one_movie_half_flight_length(self):\n",
    "        result = can_two_movies_fill_flight([3, 8], 6)\n",
    "        self.assertFalse(result)\n",
    "\n",
    "    def test_two_movies_half_flight_length(self):\n",
    "        result = can_two_movies_fill_flight([3, 8, 3], 6)\n",
    "        self.assertTrue(result)\n",
    "\n",
    "    def test_lots_of_possible_pairs(self):\n",
    "        result = can_two_movies_fill_flight([1, 2, 3, 4, 5, 6], 7)\n",
    "        self.assertTrue(result)\n",
    "\n",
    "    def test_not_using_first_movie(self):\n",
    "        result = can_two_movies_fill_flight([4, 3, 2], 5)\n",
    "        self.assertTrue(result)\n",
    "\n",
    "    def test_only_one_movie(self):\n",
    "        result = can_two_movies_fill_flight([6], 6)\n",
    "        self.assertFalse(result)\n",
    "\n",
    "    def test_no_movies(self):\n",
    "        result = can_two_movies_fill_flight([], 2)\n",
    "        self.assertFalse(result)\n",
    "\n",
    "\n",
    "if __name__ == '__main__':\n",
    "    unittest.main(argv=['first-arg-is-ignored'], verbosity=2, exit=False)"
   ]
  },
  {
   "cell_type": "markdown",
   "metadata": {},
   "source": [
    "## Permutation Palindrome"
   ]
  },
  {
   "cell_type": "markdown",
   "metadata": {},
   "source": [
    "Write an efficient function that checks whether any permutation of an input string is a palindrome.\n",
    "\n",
    "You can assume the input string only contains lowercase letters.\n",
    "\n",
    "Examples:\n",
    "\n",
    "- \"civic\" should return True\n",
    "- \"ivicc\" should return True\n",
    "- \"civil\" should return False\n",
    "- \"livci\" should return False"
   ]
  },
  {
   "cell_type": "code",
   "execution_count": 14,
   "metadata": {},
   "outputs": [],
   "source": [
    "def has_palindrome_permutation(the_string):\n",
    "\n",
    "    # Check if any permutation of the input is a palindrome\n",
    "    char_dict = {}\n",
    "    result = True\n",
    "    \n",
    "    for char in the_string:\n",
    "        if char in char_dict:\n",
    "            char_dict[char] += 1\n",
    "        else:\n",
    "            char_dict[char] = 1\n",
    "            \n",
    "    size = sum(char_dict.values())\n",
    "    odd_char_count = 0\n",
    "    for char_count in char_dict.values():\n",
    "        if size % 2 == 0 and char_count % 2 == 1:\n",
    "            result = False\n",
    "            break\n",
    "        elif size % 2 == 1 and char_count % 2 == 1:\n",
    "            if odd_char_count == 0:\n",
    "                odd_char_count += 1\n",
    "            else:\n",
    "                result = False\n",
    "                break\n",
    "\n",
    "    return result"
   ]
  },
  {
   "cell_type": "code",
   "execution_count": 15,
   "metadata": {},
   "outputs": [
    {
     "name": "stderr",
     "output_type": "stream",
     "text": [
      "test_empty_string (__main__.Test) ... ok\n",
      "test_no_permutation_with_even_number_of_chars (__main__.Test) ... ok\n",
      "test_no_permutation_with_odd_number_of_chars (__main__.Test) ... ok\n",
      "test_one_character_string (__main__.Test) ... ok\n",
      "test_permutation_with_even_number_of_chars (__main__.Test) ... ok\n",
      "test_permutation_with_odd_number_of_chars (__main__.Test) ... ok\n",
      "\n",
      "----------------------------------------------------------------------\n",
      "Ran 6 tests in 0.003s\n",
      "\n",
      "OK\n"
     ]
    }
   ],
   "source": [
    "class Test(unittest.TestCase):\n",
    "\n",
    "    def test_permutation_with_odd_number_of_chars(self):\n",
    "        result = has_palindrome_permutation('aabcbcd')\n",
    "        self.assertTrue(result)\n",
    "\n",
    "    def test_permutation_with_even_number_of_chars(self):\n",
    "        result = has_palindrome_permutation('aabccbdd')\n",
    "        self.assertTrue(result)\n",
    "\n",
    "    def test_no_permutation_with_odd_number_of_chars(self):\n",
    "        result = has_palindrome_permutation('aabcd')\n",
    "        self.assertFalse(result)\n",
    "\n",
    "    def test_no_permutation_with_even_number_of_chars(self):\n",
    "        result = has_palindrome_permutation('aabbcd')\n",
    "        self.assertFalse(result)\n",
    "\n",
    "    def test_empty_string(self):\n",
    "        result = has_palindrome_permutation('')\n",
    "        self.assertTrue(result)\n",
    "\n",
    "    def test_one_character_string(self):\n",
    "        result = has_palindrome_permutation('a')\n",
    "        self.assertTrue(result)\n",
    "\n",
    "\n",
    "if __name__ == '__main__':\n",
    "    unittest.main(argv=['first-arg-is-ignored'], verbosity=2, exit=False)"
   ]
  },
  {
   "cell_type": "markdown",
   "metadata": {},
   "source": [
    "## Word Cloud Data"
   ]
  },
  {
   "cell_type": "markdown",
   "metadata": {},
   "source": [
    "You want to build a word cloud, an infographic where the size of a word corresponds to how often it appears in the body of text.\n",
    "\n",
    "To do this, you'll need data. Write code that takes a long string and builds its word cloud data in a dictionary, where the keys are words and the values are the number of times the words occurred.\n",
    "\n",
    "Think about capitalized words. For example, look at these sentences:\n",
    "\n",
    "> 'After beating the eggs, Dana read the next step:'\n",
    "\n",
    "> 'Add milk and eggs, then add flour and sugar.'\n",
    "\n",
    "What do we want to do with \"After\", \"Dana\", and \"add\"? In this example, your final dictionary should include one \"Add\" or \"add\" with a value of 22. Make reasonable (not necessarily perfect) decisions about cases like \"After\" and \"Dana\".\n",
    "\n",
    "Assume the input will only contain words and standard punctuation."
   ]
  },
  {
   "cell_type": "code",
   "execution_count": 14,
   "metadata": {},
   "outputs": [],
   "source": [
    "import re\n",
    "\n",
    "class WordCloudData(object):\n",
    "\n",
    "    def __init__(self, input_string):\n",
    "\n",
    "        # Count the frequency of each word\n",
    "        self.words_to_counts = {}\n",
    "        \n",
    "        input_string_list = input_string.split(' ')\n",
    "        for i, char in enumerate(input_string_list):\n",
    "            if char == ',':\n",
    "                continue\n",
    "                \n",
    "            char = re.sub('[^A-Za-z0-9\\-\\']+', '', char)\n",
    "                \n",
    "            if char in self.words_to_counts:\n",
    "                self.words_to_counts[char] += 1\n",
    "            else:\n",
    "                self.words_to_counts[char] = 1"
   ]
  },
  {
   "cell_type": "code",
   "execution_count": 15,
   "metadata": {},
   "outputs": [
    {
     "name": "stderr",
     "output_type": "stream",
     "text": [
      "test_apostrophes (__main__.Test) ... ok\n",
      "test_ellipses_between_words (__main__.Test) ... FAIL\n",
      "test_hyphenated_words (__main__.Test) ... FAIL\n",
      "test_longer_sentence (__main__.Test) ... ok\n",
      "test_punctuation (__main__.Test) ... ok\n",
      "test_simple_sentence (__main__.Test) ... ok\n",
      "\n",
      "======================================================================\n",
      "FAIL: test_ellipses_between_words (__main__.Test)\n",
      "----------------------------------------------------------------------\n",
      "Traceback (most recent call last):\n",
      "  File \"<ipython-input-15-ff5cbef58925>\", line 54, in test_ellipses_between_words\n",
      "    self.assertEqual(actual, expected)\n",
      "AssertionError: {'Mmmmmmdecisionsdecisions': 1} != {'mmm': 2, 'decisions': 2}\n",
      "- {'Mmmmmmdecisionsdecisions': 1}\n",
      "+ {'decisions': 2, 'mmm': 2}\n",
      "\n",
      "======================================================================\n",
      "FAIL: test_hyphenated_words (__main__.Test)\n",
      "----------------------------------------------------------------------\n",
      "Traceback (most recent call last):\n",
      "  File \"<ipython-input-15-ff5cbef58925>\", line 45, in test_hyphenated_words\n",
      "    self.assertEqual(actual, expected)\n",
      "AssertionError: {'Dessert': 1, '-': 1, 'mille-feuille': 1, 'cake': 1} != {'cake': 1, 'Dessert': 1, 'mille-feuille': 1}\n",
      "- {'-': 1, 'Dessert': 1, 'cake': 1, 'mille-feuille': 1}\n",
      "?  --------\n",
      "\n",
      "+ {'Dessert': 1, 'cake': 1, 'mille-feuille': 1}\n",
      "\n",
      "----------------------------------------------------------------------\n",
      "Ran 6 tests in 0.004s\n",
      "\n",
      "FAILED (failures=2)\n"
     ]
    }
   ],
   "source": [
    "class Test(unittest.TestCase):\n",
    "\n",
    "    def test_simple_sentence(self):\n",
    "        input = 'I like cake'\n",
    "\n",
    "        word_cloud = WordCloudData(input)\n",
    "        actual = word_cloud.words_to_counts\n",
    "\n",
    "        expected = {'I': 1, 'like': 1, 'cake': 1}\n",
    "        self.assertEqual(actual, expected)\n",
    "\n",
    "    def test_longer_sentence(self):\n",
    "        input = 'Chocolate cake for dinner and pound cake for dessert'\n",
    "\n",
    "        word_cloud = WordCloudData(input)\n",
    "        actual = word_cloud.words_to_counts\n",
    "\n",
    "        expected = {\n",
    "            'and': 1,\n",
    "            'pound': 1,\n",
    "            'for': 2,\n",
    "            'dessert': 1,\n",
    "            'Chocolate': 1,\n",
    "            'dinner': 1,\n",
    "            'cake': 2,\n",
    "        }\n",
    "        self.assertEqual(actual, expected)\n",
    "\n",
    "    def test_punctuation(self):\n",
    "        input = 'Strawberry short cake? Yum!'\n",
    "\n",
    "        word_cloud = WordCloudData(input)\n",
    "        actual = word_cloud.words_to_counts\n",
    "\n",
    "        expected = {'cake': 1, 'Strawberry': 1, 'short': 1, 'Yum': 1}\n",
    "        self.assertEqual(actual, expected)\n",
    "\n",
    "    def test_hyphenated_words(self):\n",
    "        input = 'Dessert - mille-feuille cake'\n",
    "\n",
    "        word_cloud = WordCloudData(input)\n",
    "        actual = word_cloud.words_to_counts\n",
    "\n",
    "        expected = {'cake': 1, 'Dessert': 1, 'mille-feuille': 1}\n",
    "        self.assertEqual(actual, expected)\n",
    "\n",
    "    def test_ellipses_between_words(self):\n",
    "        input = 'Mmm...mmm...decisions...decisions'\n",
    "\n",
    "        word_cloud = WordCloudData(input)\n",
    "        actual = word_cloud.words_to_counts\n",
    "\n",
    "        expected = {'mmm': 2, 'decisions': 2}\n",
    "        self.assertEqual(actual, expected)\n",
    "\n",
    "    def test_apostrophes(self):\n",
    "        input = \"Allie's Bakery: Sasha's Cakes\"\n",
    "\n",
    "        word_cloud = WordCloudData(input)\n",
    "        actual = word_cloud.words_to_counts\n",
    "\n",
    "        expected = {\"Bakery\": 1, \"Cakes\": 1, \"Allie's\": 1, \"Sasha's\": 1}\n",
    "        self.assertEqual(actual, expected)\n",
    "\n",
    "\n",
    "if __name__ == '__main__':\n",
    "    unittest.main(argv=['first-arg-is-ignored'], verbosity=2, exit=False)"
   ]
  },
  {
   "cell_type": "markdown",
   "metadata": {},
   "source": [
    "## Top Scores"
   ]
  },
  {
   "cell_type": "markdown",
   "metadata": {},
   "source": [
    "You created a game that is more popular than Angry Birds.\n",
    "\n",
    "Each round, players receive a score between 0 and 100, which you use to rank them from highest to lowest. So far you're using an algorithm that sorts in $O(nlg{n})$ time, but players are complaining that their rankings aren't updated fast enough. You need a faster sorting algorithm.\n",
    "\n",
    "Write a function that takes:\n",
    "\n",
    "1. a list of `unsorted_scores`\n",
    "2. the `highest_possible_score` in the game\n",
    "\n",
    "and returns a sorted list of scores in less than $O(nlgn)$ time.\n",
    "\n",
    "For example:\n",
    "\n",
    "```python\n",
    "unsorted_scores = [37, 89, 41, 65, 91, 53]\n",
    "HIGHEST_POSSIBLE_SCORE = 100\n",
    "\n",
    "# Returns [91, 89, 65, 53, 41, 37]\n",
    "sort_scores(unsorted_scores, HIGHEST_POSSIBLE_SCORE)\n",
    "```\n",
    "\n",
    "We’re defining $n$ as the number of `unsorted_scores` because we’re expecting the number of players to keep climbing.\n",
    "\n",
    "And, we'll treat `highest_possible_score` as a constant instead of factoring it into our big O time and space costs because the highest possible score isn’t going to change. Even if we do redesign the game a little, the scores will stay around the same order of magnitude."
   ]
  },
  {
   "cell_type": "code",
   "execution_count": 20,
   "metadata": {},
   "outputs": [],
   "source": [
    "def sort_scores(unsorted_scores, highest_possible_score):\n",
    "\n",
    "    # Sort the scores in O(n) time\n",
    "    scores_count_dict = {key:0 for key in range(highest_possible_score+1)}\n",
    "\n",
    "    for score in unsorted_scores:\n",
    "        scores_count_dict[score] += 1\n",
    "\n",
    "    results = []\n",
    "    for key, value in scores_count_dict.items():\n",
    "        if value > 0:\n",
    "            results = [key] * value + results\n",
    "        \n",
    "    return results"
   ]
  },
  {
   "cell_type": "code",
   "execution_count": 21,
   "metadata": {},
   "outputs": [
    {
     "name": "stderr",
     "output_type": "stream",
     "text": [
      "test_many_scores (__main__.Test) ... ok\n",
      "test_no_scores (__main__.Test) ... ok\n",
      "test_one_score (__main__.Test) ... ok\n",
      "test_repeated_scores (__main__.Test) ... ok\n",
      "test_two_scores (__main__.Test) ... ok\n",
      "\n",
      "----------------------------------------------------------------------\n",
      "Ran 5 tests in 0.003s\n",
      "\n",
      "OK\n"
     ]
    }
   ],
   "source": [
    "class Test(unittest.TestCase):\n",
    "\n",
    "    def test_no_scores(self):\n",
    "        actual = sort_scores([], 100)\n",
    "        expected = []\n",
    "        self.assertEqual(actual, expected)\n",
    "\n",
    "    def test_one_score(self):\n",
    "        actual = sort_scores([55], 100)\n",
    "        expected = [55]\n",
    "        self.assertEqual(actual, expected)\n",
    "\n",
    "    def test_two_scores(self):\n",
    "        actual = sort_scores([30, 60], 100)\n",
    "        expected = [60, 30]\n",
    "        self.assertEqual(actual, expected)\n",
    "\n",
    "    def test_many_scores(self):\n",
    "        actual = sort_scores([37, 89, 41, 65, 91, 53], 100)\n",
    "        expected = [91, 89, 65, 53, 41, 37]\n",
    "        self.assertEqual(actual, expected)\n",
    "\n",
    "    def test_repeated_scores(self):\n",
    "        actual = sort_scores([20, 10, 30, 30, 10, 20], 100)\n",
    "        expected = [30, 30, 20, 20, 10, 10]\n",
    "        self.assertEqual(actual, expected)\n",
    "\n",
    "if __name__ == '__main__':\n",
    "    unittest.main(argv=['first-arg-is-ignored'], verbosity=2, exit=False)"
   ]
  },
  {
   "cell_type": "code",
   "execution_count": null,
   "metadata": {},
   "outputs": [],
   "source": []
  }
 ],
 "metadata": {
  "kernelspec": {
   "display_name": "Python 3",
   "language": "python",
   "name": "python3"
  },
  "language_info": {
   "codemirror_mode": {
    "name": "ipython",
    "version": 3
   },
   "file_extension": ".py",
   "mimetype": "text/x-python",
   "name": "python",
   "nbconvert_exporter": "python",
   "pygments_lexer": "ipython3",
   "version": "3.6.5"
  }
 },
 "nbformat": 4,
 "nbformat_minor": 4
}
