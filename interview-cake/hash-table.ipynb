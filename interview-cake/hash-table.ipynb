{
 "cells": [
  {
   "cell_type": "markdown",
   "metadata": {},
   "source": [
    "# Hash Table"
   ]
  },
  {
   "cell_type": "markdown",
   "metadata": {},
   "source": [
    "A hash table organizes data so you can quickly look up values for a given key.\n",
    "\n",
    "**Strengths**:\n",
    "\n",
    "- Fast lookups. Lookups take $O(1)$ time on average.\n",
    "- Flexible keys. Most data types can be used for keys, as long as they're hashable.\n",
    "\n",
    "**Weaknesses**:\n",
    "\n",
    "- **Slow worst-case lookups**. Lookups take $O(n)$ time in the worst case.\n",
    "- **Unordered**. Keys aren't stored in a special order. If you're looking for the smallest key, the largest key, or all the keys in a range, you'll need to look through every key to find it.\n",
    "- **Single-directional lookups**. While you can look up the value for a given key in $O(1)$ time, looking up the keys for a given value requires looping through the whole dataset—$O(n)$ time.\n",
    "- **Not cache-friendly**. Many hash table implementations use linked lists, which don't put data next to each other in memory.\n",
    "\n",
    "||Average|Worst Case|\n",
    "|---|---|---|\n",
    "|space|$O(n)$|$O(n)$|\n",
    "|insert|$O(1)$|$O(n)$|\n",
    "|lookup|$O(1)$|$O(n)$|\n",
    "|delete|$O(1)$|$O(n)$|"
   ]
  },
  {
   "cell_type": "markdown",
   "metadata": {},
   "source": [
    "# Practices"
   ]
  },
  {
   "cell_type": "code",
   "execution_count": 1,
   "metadata": {},
   "outputs": [],
   "source": [
    "import unittest"
   ]
  },
  {
   "cell_type": "markdown",
   "metadata": {},
   "source": [
    "## Inflight Entertainment"
   ]
  },
  {
   "cell_type": "markdown",
   "metadata": {},
   "source": [
    "Users on longer flights like to start a second movie right when their first one ends, but they complain that the plane usually lands before they can see the ending. So you're building a feature for choosing two movies whose total runtimes will equal the exact flight length.\n",
    "\n",
    "Write a function that takes an integer flight_length (in minutes) and a list of integers movie_lengths (in minutes) and returns a boolean indicating whether there are two numbers in movie_lengths whose sum equals flight_length.\n",
    "\n",
    "When building your function:\n",
    "\n",
    "- Assume your users will watch exactly two movies\n",
    "- Don't make your users watch the same movie twice\n",
    "- Optimize for runtime over memory"
   ]
  },
  {
   "cell_type": "code",
   "execution_count": 9,
   "metadata": {},
   "outputs": [],
   "source": [
    "def can_two_movies_fill_flight(movie_lengths, flight_length):\n",
    "\n",
    "    # Determine if two movie runtimes add up to the flight length\n",
    "    movie_length_dict = {}\n",
    "    result = False\n",
    "    \n",
    "    for movie_length in movie_lengths:\n",
    "        if movie_length > flight_length:\n",
    "            continue\n",
    "        else:\n",
    "            if str(flight_length - movie_length) in movie_length_dict:\n",
    "                result = True\n",
    "                break\n",
    "            elif str(movie_length) in movie_length_dict:\n",
    "                movie_length_dict[str(movie_length)] += 1\n",
    "            elif str(movie_length) not in movie_length_dict:\n",
    "                movie_length_dict[str(movie_length)] = 1\n",
    "        \n",
    "    return result"
   ]
  },
  {
   "cell_type": "code",
   "execution_count": 10,
   "metadata": {},
   "outputs": [
    {
     "name": "stderr",
     "output_type": "stream",
     "text": [
      "test_long_flight (__main__.Test) ... ok\n",
      "test_lots_of_possible_pairs (__main__.Test) ... ok\n",
      "test_no_movies (__main__.Test) ... ok\n",
      "test_not_using_first_movie (__main__.Test) ... ok\n",
      "test_one_movie_half_flight_length (__main__.Test) ... ok\n",
      "test_only_one_movie (__main__.Test) ... ok\n",
      "test_short_flight (__main__.Test) ... ok\n",
      "test_two_movies_half_flight_length (__main__.Test) ... ok\n",
      "\n",
      "----------------------------------------------------------------------\n",
      "Ran 8 tests in 0.005s\n",
      "\n",
      "OK\n"
     ]
    }
   ],
   "source": [
    "class Test(unittest.TestCase):\n",
    "\n",
    "    def test_short_flight(self):\n",
    "        result = can_two_movies_fill_flight([2, 4], 1)\n",
    "        self.assertFalse(result)\n",
    "\n",
    "    def test_long_flight(self):\n",
    "        result = can_two_movies_fill_flight([2, 4], 6)\n",
    "        self.assertTrue(result)\n",
    "\n",
    "    def test_one_movie_half_flight_length(self):\n",
    "        result = can_two_movies_fill_flight([3, 8], 6)\n",
    "        self.assertFalse(result)\n",
    "\n",
    "    def test_two_movies_half_flight_length(self):\n",
    "        result = can_two_movies_fill_flight([3, 8, 3], 6)\n",
    "        self.assertTrue(result)\n",
    "\n",
    "    def test_lots_of_possible_pairs(self):\n",
    "        result = can_two_movies_fill_flight([1, 2, 3, 4, 5, 6], 7)\n",
    "        self.assertTrue(result)\n",
    "\n",
    "    def test_not_using_first_movie(self):\n",
    "        result = can_two_movies_fill_flight([4, 3, 2], 5)\n",
    "        self.assertTrue(result)\n",
    "\n",
    "    def test_only_one_movie(self):\n",
    "        result = can_two_movies_fill_flight([6], 6)\n",
    "        self.assertFalse(result)\n",
    "\n",
    "    def test_no_movies(self):\n",
    "        result = can_two_movies_fill_flight([], 2)\n",
    "        self.assertFalse(result)\n",
    "\n",
    "\n",
    "if __name__ == '__main__':\n",
    "    unittest.main(argv=['first-arg-is-ignored'], verbosity=2, exit=False)"
   ]
  },
  {
   "cell_type": "markdown",
   "metadata": {},
   "source": [
    "## Permutation Palindrome"
   ]
  },
  {
   "cell_type": "markdown",
   "metadata": {},
   "source": [
    "Write an efficient function that checks whether any permutation ↴ of an input string is a palindrome.\n",
    "\n",
    "You can assume the input string only contains lowercase letters.\n",
    "\n",
    "Examples:\n",
    "\n",
    "- \"civic\" should return True\n",
    "- \"ivicc\" should return True\n",
    "- \"civil\" should return False\n",
    "- \"livci\" should return False"
   ]
  },
  {
   "cell_type": "code",
   "execution_count": null,
   "metadata": {},
   "outputs": [],
   "source": []
  }
 ],
 "metadata": {
  "kernelspec": {
   "display_name": "Python 3",
   "language": "python",
   "name": "python3"
  },
  "language_info": {
   "codemirror_mode": {
    "name": "ipython",
    "version": 3
   },
   "file_extension": ".py",
   "mimetype": "text/x-python",
   "name": "python",
   "nbconvert_exporter": "python",
   "pygments_lexer": "ipython3",
   "version": "3.6.5"
  }
 },
 "nbformat": 4,
 "nbformat_minor": 4
}
